{
 "cells": [
  {
   "cell_type": "code",
   "execution_count": 3,
   "metadata": {},
   "outputs": [
    {
     "name": "stdout",
     "output_type": "stream",
     "text": [
      "Hello World\n"
     ]
    }
   ],
   "source": [
    "print(\"Hello World\")"
   ]
  },
  {
   "cell_type": "code",
   "execution_count": 7,
   "metadata": {},
   "outputs": [
    {
     "name": "stdout",
     "output_type": "stream",
     "text": [
      "2\n",
      "4\n"
     ]
    }
   ],
   "source": [
    "##############################################################\n",
    "#            This is where you start programming             #\n",
    "##############################################################\n",
    "\n",
    "\n",
    "# computing literal values\n",
    "print(1+1)\n",
    "print(2+2)\n",
    "\n",
    "# int 0 ... 9\n",
    "# float 0.0\n",
    "# strings \"words\"\n",
    "# boolean: true or false"
   ]
  },
  {
   "cell_type": "code",
   "execution_count": 8,
   "metadata": {},
   "outputs": [
    {
     "data": {
      "text/plain": [
       "2"
      ]
     },
     "execution_count": 8,
     "metadata": {},
     "output_type": "execute_result"
    }
   ],
   "source": [
    "#modulus\n",
    "2%3"
   ]
  },
  {
   "cell_type": "code",
   "execution_count": 10,
   "metadata": {},
   "outputs": [
    {
     "data": {
      "text/plain": [
       "4"
      ]
     },
     "execution_count": 10,
     "metadata": {},
     "output_type": "execute_result"
    }
   ],
   "source": [
    "#exponentiation\n",
    "2**2"
   ]
  },
  {
   "cell_type": "code",
   "execution_count": 11,
   "metadata": {},
   "outputs": [
    {
     "data": {
      "text/plain": [
       "5.0"
      ]
     },
     "execution_count": 11,
     "metadata": {},
     "output_type": "execute_result"
    }
   ],
   "source": [
    "# division\n",
    "10/2"
   ]
  },
  {
   "cell_type": "code",
   "execution_count": 21,
   "metadata": {},
   "outputs": [
    {
     "data": {
      "text/plain": [
       "3.0"
      ]
     },
     "execution_count": 21,
     "metadata": {},
     "output_type": "execute_result"
    }
   ],
   "source": [
    "from math import *\n",
    "\n",
    "max(10, 20, 30, 40)\n",
    "min(10, 20, 30, 40)\n",
    "sqrt(9)"
   ]
  },
  {
   "cell_type": "code",
   "execution_count": 23,
   "metadata": {},
   "outputs": [
    {
     "name": "stdout",
     "output_type": "stream",
     "text": [
      "The result of  2 + 3 is 5\n"
     ]
    }
   ],
   "source": [
    "#variables\n",
    "\n",
    "firstNum = 2\n",
    "secondNum = 3\n",
    "\n",
    "result= firstNum + secondNum\n",
    "\n",
    "print(\"The result of \", firstNum, \"+\", secondNum, \"is\", result)"
   ]
  },
  {
   "cell_type": "code",
   "execution_count": 6,
   "metadata": {},
   "outputs": [
    {
     "name": "stdout",
     "output_type": "stream",
     "text": [
      "The name of the guest is Estela Oganiza \n",
      " and lives in Batasan Hills QC \n",
      " age of 18 \n",
      " with birthday of 08/29/05 \n",
      " temp of 34.4\n"
     ]
    }
   ],
   "source": [
    "name = \"Estela Oganiza\"\n",
    "address = \"Batasan Hills QC\"\n",
    "age = 18\n",
    "bdate = \"08/29/05\"\n",
    "temperature = 34.4\n",
    "\n",
    "# concatenation\n",
    "\n",
    "print(\"The name of the guest is\", name, \"\\n and lives in\", address,\n",
    "        \"\\n age of\", age, \"\\n with birthday of\", bdate, \"\\n temp of\", temperature\n",
    "      )"
   ]
  },
  {
   "cell_type": "code",
   "execution_count": 10,
   "metadata": {},
   "outputs": [
    {
     "name": "stdout",
     "output_type": "stream",
     "text": [
      "Your condition is False\n"
     ]
    }
   ],
   "source": [
    "#relational operations\n",
    "# >, <, >=, <=, !=\n",
    "\n",
    "10>5\n",
    "\n",
    "if 10 >= 20: \n",
    "    print(\"Your condition is True\")\n",
    "else:\n",
    "    print(\"Your condition is False\")\n",
    "\n"
   ]
  },
  {
   "cell_type": "code",
   "execution_count": 17,
   "metadata": {},
   "outputs": [
    {
     "name": "stdout",
     "output_type": "stream",
     "text": [
      "125\n",
      "The grade is over 100\n"
     ]
    }
   ],
   "source": [
    "# put any number from 50 to 100\n",
    "# then make an if else condition if passed or failed\n",
    "# greater than 50 \"Passed\" else less than 50 is \"Failed\"\n",
    "# int (typecast)\n",
    "grade = int(input(\"input a number\"))\n",
    "print(grade)\n",
    "\n",
    "if grade <= 100:\n",
    "    if grade>=50:\n",
    "        print(\"Passed\")\n",
    "    else: \n",
    "        print(\"Failed\")\n",
    "else:\n",
    "    print(\"The grade is over 100\")\n"
   ]
  },
  {
   "cell_type": "code",
   "execution_count": 19,
   "metadata": {},
   "outputs": [
    {
     "name": "stdout",
     "output_type": "stream",
     "text": [
      "The grade is invalid\n"
     ]
    }
   ],
   "source": [
    "grade = int(input(\"input a number\"))\n",
    "\n",
    "if grade < 0 or grade > 100: # checks the grade is invalid\n",
    "    print(\"The grade is invalid\")\n",
    "else:\n",
    "    # it is nested\n",
    "    if grade>=50:\n",
    "        print(\"Passed\")\n",
    "    else: \n",
    "        print(\"Failed\")\n"
   ]
  },
  {
   "cell_type": "code",
   "execution_count": null,
   "metadata": {},
   "outputs": [],
   "source": []
  }
 ],
 "metadata": {
  "kernelspec": {
   "display_name": "dswdvenv",
   "language": "python",
   "name": "python3"
  },
  "language_info": {
   "codemirror_mode": {
    "name": "ipython",
    "version": 3
   },
   "file_extension": ".py",
   "mimetype": "text/x-python",
   "name": "python",
   "nbconvert_exporter": "python",
   "pygments_lexer": "ipython3",
   "version": "3.11.4"
  },
  "orig_nbformat": 4
 },
 "nbformat": 4,
 "nbformat_minor": 2
}
