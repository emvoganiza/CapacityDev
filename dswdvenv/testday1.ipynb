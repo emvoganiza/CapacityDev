{
 "cells": [
  {
   "cell_type": "code",
   "execution_count": 3,
   "metadata": {},
   "outputs": [
    {
     "name": "stdout",
     "output_type": "stream",
     "text": [
      "Hello World\n"
     ]
    }
   ],
   "source": [
    "print(\"Hello World\")"
   ]
  },
  {
   "cell_type": "code",
   "execution_count": 7,
   "metadata": {},
   "outputs": [
    {
     "name": "stdout",
     "output_type": "stream",
     "text": [
      "2\n",
      "4\n"
     ]
    }
   ],
   "source": [
    "##############################################################\n",
    "#            This is where you start programming             #\n",
    "##############################################################\n",
    "\n",
    "\n",
    "# computing literal values\n",
    "print(1+1)\n",
    "print(2+2)\n",
    "\n",
    "# int 0 ... 9\n",
    "# float 0.0\n",
    "# strings \"words\"\n",
    "# boolean: true or false"
   ]
  },
  {
   "cell_type": "code",
   "execution_count": 8,
   "metadata": {},
   "outputs": [
    {
     "data": {
      "text/plain": [
       "2"
      ]
     },
     "execution_count": 8,
     "metadata": {},
     "output_type": "execute_result"
    }
   ],
   "source": [
    "#modulus\n",
    "2%3"
   ]
  },
  {
   "cell_type": "code",
   "execution_count": 10,
   "metadata": {},
   "outputs": [
    {
     "data": {
      "text/plain": [
       "4"
      ]
     },
     "execution_count": 10,
     "metadata": {},
     "output_type": "execute_result"
    }
   ],
   "source": [
    "#exponentiation\n",
    "2**2"
   ]
  },
  {
   "cell_type": "code",
   "execution_count": 11,
   "metadata": {},
   "outputs": [
    {
     "data": {
      "text/plain": [
       "5.0"
      ]
     },
     "execution_count": 11,
     "metadata": {},
     "output_type": "execute_result"
    }
   ],
   "source": [
    "# division\n",
    "10/2"
   ]
  },
  {
   "cell_type": "code",
   "execution_count": 21,
   "metadata": {},
   "outputs": [
    {
     "data": {
      "text/plain": [
       "3.0"
      ]
     },
     "execution_count": 21,
     "metadata": {},
     "output_type": "execute_result"
    }
   ],
   "source": [
    "from math import *\n",
    "\n",
    "max(10, 20, 30, 40)\n",
    "min(10, 20, 30, 40)\n",
    "sqrt(9)"
   ]
  },
  {
   "cell_type": "code",
   "execution_count": 23,
   "metadata": {},
   "outputs": [
    {
     "name": "stdout",
     "output_type": "stream",
     "text": [
      "The result of  2 + 3 is 5\n"
     ]
    }
   ],
   "source": [
    "#variables\n",
    "\n",
    "firstNum = 2\n",
    "secondNum = 3\n",
    "\n",
    "result= firstNum + secondNum\n",
    "\n",
    "print(\"The result of \", firstNum, \"+\", secondNum, \"is\", result)"
   ]
  },
  {
   "cell_type": "code",
   "execution_count": 6,
   "metadata": {},
   "outputs": [
    {
     "name": "stdout",
     "output_type": "stream",
     "text": [
      "The name of the guest is Estela Oganiza \n",
      " and lives in Batasan Hills QC \n",
      " age of 18 \n",
      " with birthday of 08/29/05 \n",
      " temp of 34.4\n"
     ]
    }
   ],
   "source": [
    "name = \"Estela Oganiza\"\n",
    "address = \"Batasan Hills QC\"\n",
    "age = 18\n",
    "bdate = \"08/29/05\"\n",
    "temperature = 34.4\n",
    "\n",
    "# concatenation\n",
    "\n",
    "print(\"The name of the guest is\", name, \"\\n and lives in\", address,\n",
    "        \"\\n age of\", age, \"\\n with birthday of\", bdate, \"\\n temp of\", temperature\n",
    "      )"
   ]
  },
  {
   "cell_type": "code",
   "execution_count": 10,
   "metadata": {},
   "outputs": [
    {
     "name": "stdout",
     "output_type": "stream",
     "text": [
      "Your condition is False\n"
     ]
    }
   ],
   "source": [
    "#relational operations\n",
    "# >, <, >=, <=, !=\n",
    "\n",
    "10>5\n",
    "\n",
    "if 10 >= 20: \n",
    "    print(\"Your condition is True\")\n",
    "else:\n",
    "    print(\"Your condition is False\")\n",
    "\n"
   ]
  },
  {
   "cell_type": "code",
   "execution_count": 17,
   "metadata": {},
   "outputs": [
    {
     "name": "stdout",
     "output_type": "stream",
     "text": [
      "125\n",
      "The grade is over 100\n"
     ]
    }
   ],
   "source": [
    "# put any number from 50 to 100\n",
    "# then make an if else condition if passed or failed\n",
    "# greater than 50 \"Passed\" else less than 50 is \"Failed\"\n",
    "# int (typecast)\n",
    "grade = int(input(\"input a number\"))\n",
    "print(grade)\n",
    "\n",
    "if grade <= 100:\n",
    "    if grade>=50:\n",
    "        print(\"Passed\")\n",
    "    else: \n",
    "        print(\"Failed\")\n",
    "else:\n",
    "    print(\"The grade is over 100\")\n"
   ]
  },
  {
   "cell_type": "code",
   "execution_count": 19,
   "metadata": {},
   "outputs": [
    {
     "name": "stdout",
     "output_type": "stream",
     "text": [
      "The grade is invalid\n"
     ]
    }
   ],
   "source": [
    "grade = int(input(\"input a number\"))\n",
    "\n",
    "if grade < 0 or grade > 100: # checks the grade is invalid\n",
    "    print(\"The grade is invalid\")\n",
    "else:\n",
    "    # it is nested\n",
    "    if grade>=50:\n",
    "        print(\"Passed\")\n",
    "    else: \n",
    "        print(\"Failed\")\n"
   ]
  },
  {
   "cell_type": "code",
   "execution_count": 25,
   "metadata": {},
   "outputs": [
    {
     "name": "stdout",
     "output_type": "stream",
     "text": [
      "Hello World 0\n",
      "Hello World 1\n",
      "Hello World 2\n",
      "Hello World 3\n",
      "Hello World 1\n",
      "Hello World 2\n",
      "Hello World 3\n",
      "Hello World 4\n"
     ]
    }
   ],
   "source": [
    "array = [1,2,3,4] # List python\n",
    "\n",
    "for x in range(4):\n",
    "    print(\"Hello World\", x)\n",
    "\n",
    "for x in array:\n",
    "    print(\"Hello World\", x)"
   ]
  },
  {
   "cell_type": "code",
   "execution_count": 3,
   "metadata": {},
   "outputs": [
    {
     "name": "stdout",
     "output_type": "stream",
     "text": [
      "0\n",
      "2\n",
      "4\n",
      "6\n",
      "8\n",
      "10\n",
      "12\n",
      "14\n",
      "16\n",
      "18\n",
      "0\n",
      "2\n",
      "4\n",
      "6\n",
      "8\n",
      "10\n",
      "12\n",
      "14\n",
      "16\n",
      "18\n"
     ]
    }
   ],
   "source": [
    "for x in range(0,20,2):\n",
    "    print(x)\n",
    "\n",
    "array=range(0,20,2)\n",
    "\n",
    "for x in array:\n",
    "    print(x)"
   ]
  },
  {
   "cell_type": "code",
   "execution_count": 12,
   "metadata": {},
   "outputs": [
    {
     "name": "stdout",
     "output_type": "stream",
     "text": [
      "[1.0, 2.0, 3.0, 4.0, 5.0, 6.0]\n",
      "<class 'list'>\n"
     ]
    },
    {
     "data": {
      "text/plain": [
       "[3.0, 4.0]"
      ]
     },
     "execution_count": 12,
     "metadata": {},
     "output_type": "execute_result"
    }
   ],
   "source": [
    "# list concept\n",
    "\n",
    "array = [1,2,3,4,5,6]\n",
    "\n",
    "array = [1.0,2.0,3.0,4.0,5.0,6.0]\n",
    "print(array)\n",
    "\n",
    "print(type(array))\n",
    "\n",
    "array[3]\n",
    "\n",
    "#slicing\n",
    "\n",
    "#prefix of the list\n",
    "array[:4]\n",
    "#suffix\n",
    "array[4:]\n",
    "#infix\n",
    "array[2:4]\n",
    "\n",
    "array2=[\"Word\",1.2,234,\"t\", True]\n",
    "print(array2)\n"
   ]
  },
  {
   "cell_type": "code",
   "execution_count": 28,
   "metadata": {},
   "outputs": [
    {
     "name": "stdout",
     "output_type": "stream",
     "text": [
      "8\n",
      "[[4, 5, 6]]\n",
      "[[5, 6], [8, 9]]\n"
     ]
    }
   ],
   "source": [
    "#Multi dimensional array\n",
    "\n",
    "oneD=[1,2,3,4]\n",
    "twoD=[\n",
    "    [1,2,3],\n",
    "    [4,5,6],\n",
    "    [7,8,9]\n",
    "    ]             #3X3\n",
    "\n",
    "\n",
    "print(twoD[2][1])\n",
    "print(twoD[1:2])\n",
    "\n",
    "\n",
    "submatrix = [row[0:2] for row in twoD[:2]]\n",
    "\n",
    "\n",
    "submatrix = [row[1:] for row in twoD[1:]]\n",
    "print(submatrix)\n",
    "# print(oneD)\n",
    "\n"
   ]
  },
  {
   "cell_type": "code",
   "execution_count": 40,
   "metadata": {},
   "outputs": [
    {
     "name": "stdout",
     "output_type": "stream",
     "text": [
      "{'name': 'Estela', 'address': 'QC', 'birthday': '08/29/23', 'temp': 24.7, 'occupation': 'Statistician'}\n"
     ]
    }
   ],
   "source": [
    "#Dictionaries\n",
    "\n",
    "person = {\n",
    "    \"name\":\"Estela\", \n",
    "    \"address\": \"QC\",\n",
    "    \"birthday\": \"08/29/23\",\n",
    "    \"temp\":24.7\n",
    "    }\n",
    "    \n",
    "type(person)\n",
    "\n",
    "#appends a new dictionary tag to the existing dictionary\n",
    "person[\"occupation\"]=\"Statistician\"\n",
    "\n",
    "print(person)"
   ]
  },
  {
   "cell_type": "code",
   "execution_count": 51,
   "metadata": {},
   "outputs": [
    {
     "name": "stdout",
     "output_type": "stream",
     "text": [
      "Estela\n",
      "Mariz\n",
      "[{'name': 'Estela', 'address': 'QC', 'birthday': '08/29/23', 'temp': 24.7}, {'name': 'Mariz', 'address': 'Manila', 'birthday': '08/29/23', 'temp': 35.1}, {'name': 'Jean', 'address': 'BGC', 'birthday': '01/24/23', 'temp': 36.1}]\n"
     ]
    }
   ],
   "source": [
    "#Dictionaries\n",
    "\n",
    "personlist = [{\n",
    "    \"name\":\"Estela\", \n",
    "    \"address\": \"QC\",\n",
    "    \"birthday\": \"08/29/23\",\n",
    "    \"temp\":24.7\n",
    "    },\n",
    "    {\n",
    "    \"name\":\"Mariz\", \n",
    "    \"address\": \"Manila\",\n",
    "    \"birthday\": \"08/29/23\",\n",
    "    \"temp\":35.1\n",
    "    }\n",
    "]\n",
    "    \n",
    "\n",
    "personlist[0]['name']\n",
    "#loop in a dictionary list\n",
    "for row in personlist: \n",
    "    print(row[\"name\"])\n",
    "\n",
    "\n",
    "\n",
    "new_person= {\"name\":\"Jean\",\n",
    "             \"address\":\"BGC\",\n",
    "             \"birthday\": \"01/24/23\",\n",
    "             \"temp\": 36.1\n",
    "             }\n",
    "\n",
    "personlist.append(new_person)\n",
    "\n",
    "print(personlist)\n"
   ]
  },
  {
   "cell_type": "code",
   "execution_count": 53,
   "metadata": {},
   "outputs": [
    {
     "name": "stdout",
     "output_type": "stream",
     "text": [
      "CSV file 'person.csv' created successfully.\n"
     ]
    }
   ],
   "source": [
    "import csv\n",
    "field_names = [\"name\", \"address\", \"birthday\", \"temp\"]\n",
    "with open(\"person.csv\", mode=\"w\", newline=\"\") as file:\n",
    "    writer = csv.DictWriter(file, fieldnames=field_names)\n",
    "\n",
    "    writer.writeheader()\n",
    "\n",
    "    for person in personlist:\n",
    "        writer.writerow(person)\n",
    "\n",
    "print(\"CSV file 'person.csv' created successfully.\")"
   ]
  },
  {
   "cell_type": "code",
   "execution_count": 12,
   "metadata": {},
   "outputs": [
    {
     "name": "stdout",
     "output_type": "stream",
     "text": [
      "Estela\n",
      "Mariz\n",
      "Jean\n"
     ]
    }
   ],
   "source": [
    "import csv\n",
    "\n",
    "personlist = []\n",
    "\n",
    "with open(\"person.csv\", mode=\"r\") as file:\n",
    "    reader = csv.DictReader(file)\n",
    "    for row in reader: \n",
    "        personlist.append(row)\n",
    "\n",
    "for person in personlist:\n",
    "    print(person[\"name\"])"
   ]
  },
  {
   "cell_type": "code",
   "execution_count": null,
   "metadata": {},
   "outputs": [],
   "source": []
  }
 ],
 "metadata": {
  "kernelspec": {
   "display_name": "dswdvenv",
   "language": "python",
   "name": "python3"
  },
  "language_info": {
   "codemirror_mode": {
    "name": "ipython",
    "version": 3
   },
   "file_extension": ".py",
   "mimetype": "text/x-python",
   "name": "python",
   "nbconvert_exporter": "python",
   "pygments_lexer": "ipython3",
   "version": "3.11.4"
  },
  "orig_nbformat": 4
 },
 "nbformat": 4,
 "nbformat_minor": 2
}
