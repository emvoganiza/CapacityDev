{
 "cells": [
  {
   "cell_type": "code",
   "execution_count": 2,
   "metadata": {},
   "outputs": [],
   "source": [
    "#EXERCISE\n",
    "\n",
    "# Assignment Task: Seminar Attendees Management\n",
    "\n",
    "# Create a list of dictionaries, where each dictionary represents \n",
    "# an attendee's information. Include the following fields: \"Name,\" \n",
    "# \"Age,\" and \"City.\"\n",
    "\n",
    "attendeeslist = [{\n",
    "    \"Name\":\"Estela\", \n",
    "    \"Age\": 18,\n",
    "    \"City\": \"01/25/04\"\n",
    "    },\n",
    "    {\n",
    "    \"Name\":\"Nikki\", \n",
    "    \"Age\": 20,\n",
    "    \"City\": \"02/14/99\"\n",
    "    },\n",
    "    {\n",
    "    \"Name\":\"Marco\", \n",
    "    \"Age\": 25,\n",
    "    \"City\": \"06/25/97\"\n",
    "    },\n",
    "    {\n",
    "    \"Name\":\"Osmalyn\", \n",
    "    \"Age\": 23,\n",
    "    \"City\": \"05/01/01\"\n",
    "    },\n",
    "    {\n",
    "    \"Name\":\"Jewel\", \n",
    "    \"Age\": 19,\n",
    "    \"City\": \"03/25/02\"\n",
    "    },\n",
    "    {\n",
    "    \"Name\":\"Julie\", \n",
    "    \"Age\": 24,\n",
    "    \"City\": \"12/25/97\"\n",
    "    },  \n",
    "    {\n",
    "    \"Name\":\"Hazel\", \n",
    "    \"Age\": 21,\n",
    "    \"City\": \"02/25/04\"\n",
    "    }, \n",
    "    {\n",
    "    \"Name\":\"Joshua\", \n",
    "    \"Age\": 22,\n",
    "    \"City\": \"07/25/04\"\n",
    "    }, \n",
    "    {\n",
    "    \"Name\":\"Toper\", \n",
    "    \"Age\": 23,\n",
    "    \"City\": \"01/25/04\"\n",
    "    }, \n",
    "    {\n",
    "    \"Name\":\"Bryan\", \n",
    "    \"Age\": 24,\n",
    "    \"City\": \"01/25/04\"\n",
    "    }, \n",
    "]"
   ]
  },
  {
   "cell_type": "code",
   "execution_count": 4,
   "metadata": {},
   "outputs": [
    {
     "name": "stdout",
     "output_type": "stream",
     "text": [
      "CSV file 'attendees.csv' created successfully.\n"
     ]
    }
   ],
   "source": [
    "# Save the attendee information to a CSV file named \"attendees.csv.\"\n",
    "\n",
    "import csv\n",
    "field_names = [\"Name\", \"Age\", \"City\"]\n",
    "with open(\"attendees.csv\", mode=\"w\", newline=\"\") as file:\n",
    "    writer = csv.DictWriter(file, fieldnames=field_names)\n",
    "\n",
    "    writer.writeheader()\n",
    "\n",
    "    for person in attendeeslist:\n",
    "        writer.writerow(person)\n",
    "\n",
    "print(\"CSV file 'attendees.csv' created successfully.\")"
   ]
  },
  {
   "cell_type": "code",
   "execution_count": 5,
   "metadata": {},
   "outputs": [
    {
     "name": "stdout",
     "output_type": "stream",
     "text": [
      "{'Name': 'Estela', 'Age': '18', 'City': '01/25/04'}\n",
      "{'Name': 'Nikki', 'Age': '20', 'City': '02/14/99'}\n",
      "{'Name': 'Marco', 'Age': '25', 'City': '06/25/97'}\n",
      "{'Name': 'Osmalyn', 'Age': '23', 'City': '05/01/01'}\n",
      "{'Name': 'Jewel', 'Age': '19', 'City': '03/25/02'}\n",
      "{'Name': 'Julie', 'Age': '24', 'City': '12/25/97'}\n",
      "{'Name': 'Hazel', 'Age': '21', 'City': '02/25/04'}\n",
      "{'Name': 'Joshua', 'Age': '22', 'City': '07/25/04'}\n",
      "{'Name': 'Toper', 'Age': '23', 'City': '01/25/04'}\n",
      "{'Name': 'Bryan', 'Age': '24', 'City': '01/25/04'}\n"
     ]
    }
   ],
   "source": [
    "# Load the attendee information from the \"attendees.csv\" CSV file.\n",
    "\n",
    "import csv\n",
    "\n",
    "attendeeslist = []\n",
    "\n",
    "with open(\"attendees.csv\", mode=\"r\") as file:\n",
    "    reader = csv.DictReader(file)\n",
    "    for row in reader: \n",
    "        attendeeslist.append(row)\n",
    "\n",
    "for attendees in attendeeslist:\n",
    "    print(attendees)"
   ]
  },
  {
   "cell_type": "code",
   "execution_count": 10,
   "metadata": {},
   "outputs": [
    {
     "name": "stdout",
     "output_type": "stream",
     "text": [
      "{'Name': 'Estela', 'Age': '18', 'City': '01/25/04'}\n",
      "{'Name': 'Nikki', 'Age': '20', 'City': '02/14/99'}\n",
      "{'Name': 'Marco', 'Age': '25', 'City': '06/25/97'}\n",
      "{'Name': 'Osmalyn', 'Age': '23', 'City': '05/01/01'}\n",
      "{'Name': 'Jewel', 'Age': '19', 'City': '03/25/02'}\n"
     ]
    }
   ],
   "source": [
    "# Remove the last five attendees from the list.\n",
    "\n",
    "newlist =attendeeslist[0:5]\n",
    "for attendees in newlist:\n",
    "    print(attendees)"
   ]
  },
  {
   "cell_type": "code",
   "execution_count": 11,
   "metadata": {},
   "outputs": [
    {
     "name": "stdout",
     "output_type": "stream",
     "text": [
      "CSV file 'attendees.csv' created successfully.\n"
     ]
    }
   ],
   "source": [
    "# Save the updated attendee list (without the last five attendees) \n",
    "# back to the \"attendees.csv\" CSV file.\n",
    "\n",
    "import csv\n",
    "field_names = [\"Name\", \"Age\", \"City\"]\n",
    "with open(\"attendees.csv\", mode=\"w\", newline=\"\") as file:\n",
    "    writer = csv.DictWriter(file, fieldnames=field_names)\n",
    "\n",
    "    writer.writeheader()\n",
    "\n",
    "    for person in newlist:\n",
    "        writer.writerow(person)\n",
    "\n",
    "print(\"CSV file 'attendees.csv' created successfully.\")"
   ]
  },
  {
   "cell_type": "code",
   "execution_count": null,
   "metadata": {},
   "outputs": [],
   "source": []
  }
 ],
 "metadata": {
  "kernelspec": {
   "display_name": "dswdvenv",
   "language": "python",
   "name": "python3"
  },
  "language_info": {
   "codemirror_mode": {
    "name": "ipython",
    "version": 3
   },
   "file_extension": ".py",
   "mimetype": "text/x-python",
   "name": "python",
   "nbconvert_exporter": "python",
   "pygments_lexer": "ipython3",
   "version": "3.11.4"
  },
  "orig_nbformat": 4
 },
 "nbformat": 4,
 "nbformat_minor": 2
}
